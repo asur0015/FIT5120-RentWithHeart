{
 "cells": [
  {
   "cell_type": "markdown",
   "id": "f706d4fb",
   "metadata": {},
   "source": [
    "# Data Wrangling for TA12 IE Project\n",
    "* Combine multiple sheets into single dataframe\n",
    "* Convert data from wide format to long format"
   ]
  },
  {
   "cell_type": "code",
   "execution_count": 1,
   "id": "6a17b4cc",
   "metadata": {},
   "outputs": [],
   "source": [
    "import pandas as pd"
   ]
  },
  {
   "cell_type": "code",
   "execution_count": 2,
   "id": "ce03a77e",
   "metadata": {},
   "outputs": [],
   "source": [
    "# Read excel file\n",
    "xls = pd.ExcelFile('Moving annual rent by suburb - September quarter 2022.xlsx') "
   ]
  },
  {
   "cell_type": "code",
   "execution_count": 3,
   "id": "9be8fedf",
   "metadata": {},
   "outputs": [
    {
     "name": "stdout",
     "output_type": "stream",
     "text": [
      "['1 bedroom flat', '2 bedroom flat', '3 bedroom flat', '2 bedroom house', '3 bedroom house', '4 bedroom house', 'All properties']\n"
     ]
    }
   ],
   "source": [
    "# Create list of sheet names\n",
    "print(xls.sheet_names)"
   ]
  },
  {
   "cell_type": "code",
   "execution_count": 4,
   "id": "1edcf884",
   "metadata": {},
   "outputs": [],
   "source": [
    "# Read each sheet in excel file into individual dataframes\n",
    "df_1f = pd.read_excel(xls, '1 bedroom flat')\n",
    "df_2f = pd.read_excel(xls, '2 bedroom flat')\n",
    "df_3f = pd.read_excel(xls, '3 bedroom flat')\n",
    "df_2h = pd.read_excel(xls, '2 bedroom house')\n",
    "df_3h = pd.read_excel(xls, '3 bedroom house')\n",
    "df_4h = pd.read_excel(xls, '4 bedroom house')\n",
    "df_all = pd.read_excel(xls, 'All properties')"
   ]
  },
  {
   "cell_type": "code",
   "execution_count": 5,
   "id": "a012c085",
   "metadata": {},
   "outputs": [],
   "source": [
    "# Create a list of all dataframes\n",
    "df_list = [df_1f,df_2f,df_2h,df_3f,df_3h,df_4h,df_all]"
   ]
  },
  {
   "cell_type": "code",
   "execution_count": 6,
   "id": "0530fff2",
   "metadata": {},
   "outputs": [],
   "source": [
    "processed_df_list = []\n",
    "for dataframe in df_list:\n",
    "    \n",
    "    # Combining text of header rows \n",
    "    for i in range(2,len(dataframe.loc[0])):\n",
    "        if pd.isnull(dataframe.loc[0][i]):\n",
    "            dataframe.loc[0][i] = str(dataframe.loc[0][i-1]) +','+ str(dataframe.loc[1][i])+','+str(dataframe.loc[0][0])\n",
    "            dataframe.loc[0][i-1] = str(dataframe.loc[0][i-1]) +','+ str(dataframe.loc[1][i-1])+','+str(dataframe.loc[0][0])\n",
    "    \n",
    "    # Changing the headers of the first 2 columns\n",
    "    dataframe.iat[0,0] = 'Region' \n",
    "    dataframe.iat[0,1] = 'Suburb' \n",
    "    \n",
    "    # Drop redundant row containing old header name\n",
    "    dataframe = dataframe.drop(1)\n",
    "    \n",
    "    # Changing column names to row[0]\n",
    "    dataframe = dataframe.rename(columns=dataframe.iloc[0]).drop(0).reset_index(drop=True)\n",
    "    \n",
    "    # Create a loop to replace NaN values in Region column with names of regions\n",
    "    label = ''\n",
    "    for i in range(len(dataframe['Region'])):\n",
    "        if pd.notnull(dataframe['Region'][i]):\n",
    "            label=str(dataframe['Region'][i])\n",
    "        elif pd.isnull(dataframe['Region'][i]):\n",
    "            dataframe['Region'][i] = label\n",
    "    \n",
    "    # Changing format of dataframe from wide to long\n",
    "    dataframe = pd.melt(dataframe, col_level=0, id_vars=['Region','Suburb'])\n",
    "    \n",
    "    # Renaming variable column to Month_year and value column to Value\n",
    "    dataframe = dataframe.rename(columns={'variable':'Month','value':'Value'})\n",
    "    \n",
    "    # Split Month column into 3 separate columns with Month data, Measure data and Housing Type data\n",
    "    dataframe[['Month','Measure','Housing_Type']] = dataframe['Month'].str.split(',',expand=True)\n",
    "    \n",
    "    # Split Month column into 2 separate columns with Month data and Year data\n",
    "    dataframe[['Month','Year']] = dataframe['Month'].str.split(' ',expand=True)\n",
    "    \n",
    "    processed_df_list.append(dataframe)\n",
    "\n",
    "\n",
    "df = pd.concat(processed_df_list)\n",
    "df.to_csv('rental_data.csv')"
   ]
  },
  {
   "cell_type": "code",
   "execution_count": 7,
   "id": "6ad8aea9",
   "metadata": {},
   "outputs": [
    {
     "data": {
      "text/html": [
       "<div>\n",
       "<style scoped>\n",
       "    .dataframe tbody tr th:only-of-type {\n",
       "        vertical-align: middle;\n",
       "    }\n",
       "\n",
       "    .dataframe tbody tr th {\n",
       "        vertical-align: top;\n",
       "    }\n",
       "\n",
       "    .dataframe thead th {\n",
       "        text-align: right;\n",
       "    }\n",
       "</style>\n",
       "<table border=\"1\" class=\"dataframe\">\n",
       "  <thead>\n",
       "    <tr style=\"text-align: right;\">\n",
       "      <th></th>\n",
       "      <th>Region</th>\n",
       "      <th>Suburb</th>\n",
       "      <th>Month</th>\n",
       "      <th>Value</th>\n",
       "      <th>Measure</th>\n",
       "      <th>Housing_Type</th>\n",
       "      <th>Year</th>\n",
       "    </tr>\n",
       "  </thead>\n",
       "  <tbody>\n",
       "    <tr>\n",
       "      <th>0</th>\n",
       "      <td>Inner Melbourne</td>\n",
       "      <td>Albert Park-Middle Park-West St Kilda</td>\n",
       "      <td>Mar</td>\n",
       "      <td>352</td>\n",
       "      <td>Count</td>\n",
       "      <td>1 bedroom flats</td>\n",
       "      <td>2000</td>\n",
       "    </tr>\n",
       "    <tr>\n",
       "      <th>1</th>\n",
       "      <td>Inner Melbourne</td>\n",
       "      <td>Armadale</td>\n",
       "      <td>Mar</td>\n",
       "      <td>210</td>\n",
       "      <td>Count</td>\n",
       "      <td>1 bedroom flats</td>\n",
       "      <td>2000</td>\n",
       "    </tr>\n",
       "    <tr>\n",
       "      <th>2</th>\n",
       "      <td>Inner Melbourne</td>\n",
       "      <td>Carlton North</td>\n",
       "      <td>Mar</td>\n",
       "      <td>87</td>\n",
       "      <td>Count</td>\n",
       "      <td>1 bedroom flats</td>\n",
       "      <td>2000</td>\n",
       "    </tr>\n",
       "    <tr>\n",
       "      <th>3</th>\n",
       "      <td>Inner Melbourne</td>\n",
       "      <td>Carlton-Parkville</td>\n",
       "      <td>Mar</td>\n",
       "      <td>303</td>\n",
       "      <td>Count</td>\n",
       "      <td>1 bedroom flats</td>\n",
       "      <td>2000</td>\n",
       "    </tr>\n",
       "    <tr>\n",
       "      <th>4</th>\n",
       "      <td>Inner Melbourne</td>\n",
       "      <td>CBD-St Kilda Rd</td>\n",
       "      <td>Mar</td>\n",
       "      <td>755</td>\n",
       "      <td>Count</td>\n",
       "      <td>1 bedroom flats</td>\n",
       "      <td>2000</td>\n",
       "    </tr>\n",
       "  </tbody>\n",
       "</table>\n",
       "</div>"
      ],
      "text/plain": [
       "            Region                                 Suburb Month Value Measure  \\\n",
       "0  Inner Melbourne  Albert Park-Middle Park-West St Kilda   Mar   352   Count   \n",
       "1  Inner Melbourne                               Armadale   Mar   210   Count   \n",
       "2  Inner Melbourne                          Carlton North   Mar    87   Count   \n",
       "3  Inner Melbourne                      Carlton-Parkville   Mar   303   Count   \n",
       "4  Inner Melbourne                        CBD-St Kilda Rd   Mar   755   Count   \n",
       "\n",
       "      Housing_Type  Year  \n",
       "0  1 bedroom flats  2000  \n",
       "1  1 bedroom flats  2000  \n",
       "2  1 bedroom flats  2000  \n",
       "3  1 bedroom flats  2000  \n",
       "4  1 bedroom flats  2000  "
      ]
     },
     "execution_count": 7,
     "metadata": {},
     "output_type": "execute_result"
    }
   ],
   "source": [
    "df.head()"
   ]
  },
  {
   "cell_type": "code",
   "execution_count": null,
   "id": "f739cb2d",
   "metadata": {},
   "outputs": [],
   "source": []
  }
 ],
 "metadata": {
  "kernelspec": {
   "display_name": "Python [conda env:Iteration1] *",
   "language": "python",
   "name": "conda-env-Iteration1-py"
  },
  "language_info": {
   "codemirror_mode": {
    "name": "ipython",
    "version": 3
   },
   "file_extension": ".py",
   "mimetype": "text/x-python",
   "name": "python",
   "nbconvert_exporter": "python",
   "pygments_lexer": "ipython3",
   "version": "3.9.16"
  }
 },
 "nbformat": 4,
 "nbformat_minor": 5
}
